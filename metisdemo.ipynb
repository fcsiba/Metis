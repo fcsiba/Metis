{
 "cells": [
  {
   "cell_type": "code",
   "execution_count": 2,
   "metadata": {},
   "outputs": [],
   "source": [
    "from PIL import Image\n",
    "import requests\n",
    "import argparse\n",
    "\n",
    "# Initialize the PyTorch REST API endpoint URL.\n",
    "PyTorch_REST_API_URL = 'http://127.0.0.1:5000/predict'\n",
    "\n",
    "\n",
    "def predict_result(image_path):\n",
    "    # Initialize image path\n",
    "    image = Image.open(image_path)\n",
    "    image.show()\n",
    "\n",
    "    image = open(image_path, 'rb').read()\n",
    "    payload = {'image': image}\n",
    "\n",
    "    # Submit the request.\n",
    "    r = requests.post(PyTorch_REST_API_URL, files=payload).json()\n",
    "\n",
    "    # Ensure the request was successful.\n",
    "    if r['success']:\n",
    "        # Loop over the predictions and display them.\n",
    "        for (i, result) in enumerate(r['predictions']):\n",
    "            print('{}. {}: {:.4f}'.format(i + 1, result['label'],\n",
    "                                          result['probability']))\n",
    "    # Otherwise, the request failed.\n",
    "    else:\n",
    "        print('Request failed')"
   ]
  },
  {
   "cell_type": "code",
   "execution_count": 7,
   "metadata": {
    "scrolled": true
   },
   "outputs": [
    {
     "name": "stdout",
     "output_type": "stream",
     "text": [
      "1. Acne: 0.8627\n",
      "2. Herpes Zoster: 0.1043\n"
     ]
    }
   ],
   "source": [
    "predict_result('/home/hunaid/metis/deploy-pytorch-model/val/s.png')"
   ]
  },
  {
   "cell_type": "code",
   "execution_count": null,
   "metadata": {},
   "outputs": [],
   "source": []
  },
  {
   "cell_type": "code",
   "execution_count": null,
   "metadata": {},
   "outputs": [],
   "source": []
  },
  {
   "cell_type": "code",
   "execution_count": null,
   "metadata": {},
   "outputs": [],
   "source": []
  },
  {
   "cell_type": "code",
   "execution_count": null,
   "metadata": {},
   "outputs": [],
   "source": []
  },
  {
   "cell_type": "code",
   "execution_count": null,
   "metadata": {},
   "outputs": [],
   "source": []
  },
  {
   "cell_type": "code",
   "execution_count": null,
   "metadata": {},
   "outputs": [],
   "source": []
  }
 ],
 "metadata": {
  "kernelspec": {
   "display_name": "Python 3",
   "language": "python",
   "name": "python3"
  },
  "language_info": {
   "codemirror_mode": {
    "name": "ipython",
    "version": 2
   },
   "file_extension": ".py",
   "mimetype": "text/x-python",
   "name": "python",
   "nbconvert_exporter": "python",
   "pygments_lexer": "ipython2",
   "version": "2.7.15rc1"
  }
 },
 "nbformat": 4,
 "nbformat_minor": 2
}
